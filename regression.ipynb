{
 "cells": [
  {
   "cell_type": "code",
   "execution_count": 533,
   "metadata": {
    "collapsed": true
   },
   "outputs": [],
   "source": [
    "%matplotlib inline\n",
    "import numpy as np\n",
    "import pandas as pd\n",
    "from sklearn import preprocessing\n",
    "import matplotlib.pyplot as plt"
   ]
  },
  {
   "cell_type": "code",
   "execution_count": 538,
   "metadata": {},
   "outputs": [
    {
     "data": {
      "text/html": [
       "<div>\n",
       "<style scoped>\n",
       "    .dataframe tbody tr th:only-of-type {\n",
       "        vertical-align: middle;\n",
       "    }\n",
       "\n",
       "    .dataframe tbody tr th {\n",
       "        vertical-align: top;\n",
       "    }\n",
       "\n",
       "    .dataframe thead th {\n",
       "        text-align: right;\n",
       "    }\n",
       "</style>\n",
       "<table border=\"1\" class=\"dataframe\">\n",
       "  <thead>\n",
       "    <tr style=\"text-align: right;\">\n",
       "      <th></th>\n",
       "      <th>Entity</th>\n",
       "      <th>Code</th>\n",
       "      <th>Year</th>\n",
       "      <th>height</th>\n",
       "    </tr>\n",
       "  </thead>\n",
       "  <tbody>\n",
       "    <tr>\n",
       "      <th>795</th>\n",
       "      <td>Netherlands</td>\n",
       "      <td>NLD</td>\n",
       "      <td>1810</td>\n",
       "      <td>166.0</td>\n",
       "    </tr>\n",
       "    <tr>\n",
       "      <th>796</th>\n",
       "      <td>Netherlands</td>\n",
       "      <td>NLD</td>\n",
       "      <td>1820</td>\n",
       "      <td>165.1</td>\n",
       "    </tr>\n",
       "    <tr>\n",
       "      <th>797</th>\n",
       "      <td>Netherlands</td>\n",
       "      <td>NLD</td>\n",
       "      <td>1830</td>\n",
       "      <td>164.2</td>\n",
       "    </tr>\n",
       "    <tr>\n",
       "      <th>798</th>\n",
       "      <td>Netherlands</td>\n",
       "      <td>NLD</td>\n",
       "      <td>1840</td>\n",
       "      <td>164.5</td>\n",
       "    </tr>\n",
       "    <tr>\n",
       "      <th>799</th>\n",
       "      <td>Netherlands</td>\n",
       "      <td>NLD</td>\n",
       "      <td>1850</td>\n",
       "      <td>165.3</td>\n",
       "    </tr>\n",
       "  </tbody>\n",
       "</table>\n",
       "</div>"
      ],
      "text/plain": [
       "          Entity Code  Year  height\n",
       "795  Netherlands  NLD  1810   166.0\n",
       "796  Netherlands  NLD  1820   165.1\n",
       "797  Netherlands  NLD  1830   164.2\n",
       "798  Netherlands  NLD  1840   164.5\n",
       "799  Netherlands  NLD  1850   165.3"
      ]
     },
     "execution_count": 538,
     "metadata": {},
     "output_type": "execute_result"
    }
   ],
   "source": [
    "world_height = pd.read_csv('./world_height.csv')\n",
    "netherlands_df = world_height[world_height['Entity'] == 'Netherlands']\n",
    "netherlands_df.head()"
   ]
  },
  {
   "cell_type": "code",
   "execution_count": 548,
   "metadata": {},
   "outputs": [
    {
     "data": {
      "text/plain": [
       "[<matplotlib.lines.Line2D at 0x1a15b49ab38>]"
      ]
     },
     "execution_count": 548,
     "metadata": {},
     "output_type": "execute_result"
    },
    {
     "data": {
      "image/png": "[encoded data removed]",
      "text/plain": [
       "<matplotlib.figure.Figure at 0x1a15840ffd0>"
      ]
     },
     "metadata": {},
     "output_type": "display_data"
    }
   ],
   "source": [
    "X = netherlands_df['Year']\n",
    "y = netherlands_df['height']\n",
    "\n",
    "plt.plot(X, y, 'bo')"
   ]
  },
  {
   "cell_type": "markdown",
   "metadata": {},
   "source": [
    "## RSS\n",
    "\n",
    "* Residual sum of squares\n",
    "* the `loss function` when selecting coefficients"
   ]
  },
  {
   "cell_type": "markdown",
   "metadata": {},
   "source": [
    "## Regularization\n",
    "\n",
    "* pushes coefficients of the polynomial to 0 to make the polynomial simpler\n",
    "* to prevent overfitting\n",
    "* Ridge Regression, Lasso"
   ]
  },
  {
   "cell_type": "markdown",
   "metadata": {},
   "source": [
    "## Ridge (L2) Regression\n",
    "\n",
    "* `discourages` learning a more `complex` model, so as to `avoid` the risk of `overfitting`\n",
    "* good for polynomials, continuous functions, and normal distributions\n",
    "\n",
    "### λ\n",
    "* shrinkage parameter\n",
    "* controls the size of the coefficients\n",
    "* controls amount of regularization\n",
    "* λ ↓ 0, we obtain the least squares solutions\n",
    "* λ ↑ ∞, we get an intercept-only model\n",
    "\n",
    "![image](https://user-images.githubusercontent.com/7232635/44366487-d62d1e00-a49a-11e8-8502-c5ceea47d925.png)"
   ]
  },
  {
   "cell_type": "markdown",
   "metadata": {},
   "source": [
    "## Stochastic Gradient Descent\n",
    "* fits points to lines\n",
    "* `optimization` algorithm to find a good set of model `parameters` given a training dataset\n",
    "* `iterative` algorithm and evaluates and updates the `coefficients` every iteration to `minimize` the `error` of a model on its training data\n",
    "\n",
    "### Required Parameters for SGD\n",
    "* **Learning Rate** - to limit the amount each coefficient is corrected on each update\n",
    "* **Epochs** - number of times to run through the training data while updating the coefficients\n",
    "\n",
    "### Update to Coefficients\n",
    "\n",
    "![image](https://user-images.githubusercontent.com/7232635/44360541-2307f900-a489-11e8-99a3-88e6e014df8f.png)\n",
    "\n",
    "![image](https://user-images.githubusercontent.com/7232635/44360561-387d2300-a489-11e8-8a40-c0ab31bc77fc.png)\n"
   ]
  },
  {
   "cell_type": "markdown",
   "metadata": {},
   "source": [
    "## [Gradient Descent vs Stochastic Gradient Descent](https://towardsdatascience.com/difference-between-batch-gradient-descent-and-stochastic-gradient-descent-1187f1291aa1)\n",
    "\n",
    "Suppose you have 3 million training examples (rows).\n",
    "\n",
    "### Gradient Descent\n",
    "\n",
    "`np.dot(X.T, np.subtract(y_hat, y))` would calculate the cost for each of the 3 million training examples. The dataset must be **normalized** to the values between 0 and 1."
   ]
  },
  {
   "cell_type": "code",
   "execution_count": 525,
   "metadata": {},
   "outputs": [
    {
     "name": "stdout",
     "output_type": "stream",
     "text": [
      "[[  1.    1.5   1. ]\n",
      " [  3.    4.    2.5]\n",
      " [  5.    6.    6.5]\n",
      " [  8.    9.5  10. ]]\n"
     ]
    }
   ],
   "source": [
    "X = np.array([[1, 1.5, 1], [3, 4, 2.5], [5, 6, 6.5], [8, 9.5, 10]])\n",
    "print(X)"
   ]
  },
  {
   "cell_type": "code",
   "execution_count": 526,
   "metadata": {
    "collapsed": true
   },
   "outputs": [],
   "source": [
    "X = np.array([[1, 1.5, 1], [3, 4, 2.5], [5, 6, 6.5], [8, 9.5, 10]])\n",
    "y = np.array([2, 4, 16, 32])\n",
    "\n",
    "X = preprocessing.normalize(X)\n",
    "\n",
    "learning_rate = 0.01\n",
    "num_epochs = 10"
   ]
  },
  {
   "cell_type": "markdown",
   "metadata": {},
   "source": [
    "In this case, x has one feature and 4 training examples:"
   ]
  },
  {
   "cell_type": "code",
   "execution_count": 527,
   "metadata": {},
   "outputs": [
    {
     "name": "stdout",
     "output_type": "stream",
     "text": [
      "[[ 0.48507125  0.72760688  0.48507125]\n",
      " [ 0.53665631  0.71554175  0.4472136 ]\n",
      " [ 0.49206783  0.5904814   0.63968818]\n",
      " [ 0.5017178   0.59578988  0.62714725]]\n"
     ]
    }
   ],
   "source": [
    "print(X)"
   ]
  },
  {
   "cell_type": "code",
   "execution_count": 528,
   "metadata": {},
   "outputs": [
    {
     "name": "stdout",
     "output_type": "stream",
     "text": [
      "[ 2  4 16 32]\n"
     ]
    }
   ],
   "source": [
    "print(y)"
   ]
  },
  {
   "cell_type": "code",
   "execution_count": 529,
   "metadata": {
    "collapsed": true
   },
   "outputs": [],
   "source": [
    "def init_theta(X):\n",
    "    return np.zeros(X.shape[1])"
   ]
  },
  {
   "cell_type": "code",
   "execution_count": 530,
   "metadata": {
    "collapsed": true
   },
   "outputs": [],
   "source": [
    "def hypothesis(theta, X):\n",
    "    return np.dot(X, theta)"
   ]
  },
  {
   "cell_type": "code",
   "execution_count": 498,
   "metadata": {
    "collapsed": true
   },
   "outputs": [],
   "source": [
    "def calc_cost(y_hat, y, X):\n",
    "    m = len(y) # training examples\n",
    "    return (1.0/m) * np.dot(X.T, np.subtract(y_hat, y)) # costly - would have to calculate each cost 3 million times!"
   ]
  },
  {
   "cell_type": "code",
   "execution_count": 499,
   "metadata": {
    "collapsed": true
   },
   "outputs": [],
   "source": [
    "def update_theta(theta, learning_rate, cost):\n",
    "    return theta - learning_rate * cost"
   ]
  },
  {
   "cell_type": "markdown",
   "metadata": {},
   "source": [
    "### Coefficients SGD"
   ]
  },
  {
   "cell_type": "code",
   "execution_count": 500,
   "metadata": {
    "collapsed": true
   },
   "outputs": [],
   "source": [
    "# gradient\n",
    "def coefficients_sgd(X, y, learning_rate, num_epochs):\n",
    "    theta = init_theta(X)\n",
    "    for epoch in range(num_epochs):\n",
    "        y_hat = hypothesis(theta, X)\n",
    "        cost = calc_cost(y_hat, y, X)\n",
    "        theta = update_theta(theta, learning_rate, cost)\n",
    "    return theta"
   ]
  },
  {
   "cell_type": "code",
   "execution_count": 501,
   "metadata": {},
   "outputs": [
    {
     "name": "stdout",
     "output_type": "stream",
     "text": [
      "[ 0.64664752  0.78233495  0.79435881]\n"
     ]
    }
   ],
   "source": [
    "theta = coefficients_sgd(X, y, learning_rate, num_epochs)\n",
    "print(theta)"
   ]
  },
  {
   "cell_type": "markdown",
   "metadata": {},
   "source": [
    "### Stochastic Gradient Descent"
   ]
  },
  {
   "cell_type": "code",
   "execution_count": 502,
   "metadata": {},
   "outputs": [
    {
     "data": {
      "text/plain": [
       "[<matplotlib.lines.Line2D at 0x1a1594ac160>]"
      ]
     },
     "execution_count": 502,
     "metadata": {},
     "output_type": "execute_result"
    },
    {
     "data": {
      "image/png": "[encoded data removed]",
      "text/plain": [
       "<matplotlib.figure.Figure at 0x1a1594ac128>"
      ]
     },
     "metadata": {},
     "output_type": "display_data"
    }
   ],
   "source": [
    "f = lambda x: theta[0] + theta[1] * x + theta[2] * x**2\n",
    "x_plot = np.linspace(0, 10, 100)\n",
    "plt.plot(X, y, 'bo')\n",
    "plt.plot(x_plot, f(x_plot), 'r')"
   ]
  },
  {
   "cell_type": "markdown",
   "metadata": {},
   "source": [
    "### Comparison with [sklearn's Stochastic Gradient Descent](http://scikit-learn.org/stable/modules/sgd.html)"
   ]
  }
 ],
 "metadata": {
  "kernelspec": {
   "display_name": "Python 3",
   "language": "python",
   "name": "python3"
  },
  "language_info": {
   "codemirror_mode": {
    "name": "ipython",
    "version": 3
   },
   "file_extension": ".py",
   "mimetype": "text/x-python",
   "name": "python",
   "nbconvert_exporter": "python",
   "pygments_lexer": "ipython3",
   "version": "3.6.3"
  }
 },
 "nbformat": 4,
 "nbformat_minor": 2
}
