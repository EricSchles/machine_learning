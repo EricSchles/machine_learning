{
 "cells": [
  {
   "cell_type": "code",
   "execution_count": 533,
   "metadata": {
    "collapsed": true
   },
   "outputs": [],
   "source": [
    "%matplotlib inline\n",
    "import numpy as np\n",
    "import pandas as pd\n",
    "from sklearn import preprocessing\n",
    "import matplotlib.pyplot as plt"
   ]
  },
  {
   "cell_type": "markdown",
   "metadata": {},
   "source": [
    "## RSS\n",
    "\n",
    "* Residual sum of squares\n",
    "* the `loss function` when selecting coefficients"
   ]
  },
  {
   "cell_type": "markdown",
   "metadata": {},
   "source": [
    "## Regularization\n",
    "\n",
    "* pushes coefficients of the polynomial to 0 to make the polynomial simpler\n",
    "* to prevent overfitting\n",
    "* Ridge Regression, Lasso"
   ]
  },
  {
   "cell_type": "markdown",
   "metadata": {},
   "source": [
    "## Ridge (L2) Regression\n",
    "\n",
    "* `discourages` learning a more `complex` model, so as to `avoid` the risk of `overfitting`\n",
    "* good for polynomials, continuous functions, and normal distributions\n",
    "\n",
    "### λ\n",
    "* shrinkage parameter\n",
    "* controls the size of the coefficients\n",
    "* controls amount of regularization\n",
    "* λ ↓ 0, we obtain the least squares solutions\n",
    "* λ ↑ ∞, we get an intercept-only model\n",
    "\n",
    "![image](https://user-images.githubusercontent.com/7232635/44366487-d62d1e00-a49a-11e8-8502-c5ceea47d925.png)"
   ]
  },
  {
   "cell_type": "markdown",
   "metadata": {},
   "source": [
    "## Stochastic Gradient Descent\n",
    "* fits points to lines\n",
    "* `optimization` algorithm to find a good set of model `parameters` given a training dataset\n",
    "* `iterative` algorithm and evaluates and updates the `coefficients` every iteration to `minimize` the `error` of a model on its training data\n",
    "\n",
    "### Required Parameters for SGD\n",
    "* **Learning Rate** - to limit the amount each coefficient is corrected on each update\n",
    "* **Epochs** - number of times to run through the training data while updating the coefficients\n",
    "\n",
    "### Update to Coefficients\n",
    "\n",
    "![image](https://user-images.githubusercontent.com/7232635/44360541-2307f900-a489-11e8-99a3-88e6e014df8f.png)\n",
    "\n",
    "![image](https://user-images.githubusercontent.com/7232635/44360561-387d2300-a489-11e8-8a40-c0ab31bc77fc.png)\n"
   ]
  },
  {
   "cell_type": "markdown",
   "metadata": {},
   "source": [
    "## Gradient Descent vs Stochastic Gradient Descent\n",
    "\n",
    "| Gradient Descent | Stochastic Gradient Descent |\n",
    "|:-----------------|:----------------------------|\n",
    "| When the dataset is large, calculating the parameters is `expensive`. Consider a dataset of `1 billion sample points`. Gradient descent would go through all 1 billion sample points on each epoch to calculate the parameters. | |\n",
    "| Only works for problems which have a `well defined convex optimization` problem | |\n",
    "| Suffers with `saddle points` and multiple local minima | Suffers with `saddle points` |\n",
    "\n",
    "### Well-Defined Convex Optimization Problem\n",
    "\n",
    "![image](https://user-images.githubusercontent.com/7232635/44543527-c6514c00-a6dd-11e8-894d-5c5ec6396c4a.png)\n",
    "\n",
    "### Non-Convex Optimization Problem\n",
    "\n",
    "![image](https://user-images.githubusercontent.com/7232635/44543469-9bff8e80-a6dd-11e8-86e9-72f46df21ee6.png)\n",
    "\n",
    "### Non-Strongly Convex Optimization Problem\n",
    "\n",
    "![image](https://user-images.githubusercontent.com/7232635/44543891-d4ec3300-a6de-11e8-931e-49b39ddbf2de.png)\n",
    "\n",
    "### Saddle Point\n",
    "\n",
    "![image](https://user-images.githubusercontent.com/7232635/44543643-1d572100-a6de-11e8-9826-28bcca8ca6b5.png)\n"
   ]
  },
  {
   "cell_type": "code",
   "execution_count": 9,
   "metadata": {},
   "outputs": [
    {
     "data": {
      "text/html": [
       "<img src=\"https://www.jeremyjordan.me/content/images/2018/01/opt1.gif\"/>"
      ],
      "text/plain": [
       "<IPython.core.display.Image object>"
      ]
     },
     "execution_count": 9,
     "metadata": {},
     "output_type": "execute_result"
    }
   ],
   "source": [
    "from IPython.display import Image\n",
    "Image(url='https://www.jeremyjordan.me/content/images/2018/01/opt1.gif')"
   ]
  },
  {
   "cell_type": "markdown",
   "metadata": {},
   "source": [
    "## Gradient Descent on Multiple Variables\n",
    "\n",
    "Use the `transcoding_measurement.tsv` to predict `video transcoding time` for `MPEG` encoded videos. \n",
    "\n",
    "To follow along, read the [associated paper](https://ieeexplore.ieee.org/abstract/document/6890256/) which goes over their steps for this problem.\n",
    "\n",
    "* [Dataset here](http://archive.ics.uci.edu/ml/datasets/Online+Video+Characteristics+and+Transcoding+Time+Dataset)"
   ]
  },
  {
   "cell_type": "code",
   "execution_count": 40,
   "metadata": {
    "collapsed": true
   },
   "outputs": [],
   "source": [
    "%matplotlib inline\n",
    "import pandas as pd\n",
    "from matplotlib import pyplot as plt"
   ]
  },
  {
   "cell_type": "code",
   "execution_count": 41,
   "metadata": {},
   "outputs": [],
   "source": [
    "input_video_df = pd.read_csv('./transcoding_measurement.tsv', sep='\\t')\n",
    "output_video_df = pd.read_csv('./youtube_videos.tsv', sep='\\t')"
   ]
  },
  {
   "cell_type": "markdown",
   "metadata": {},
   "source": [
    "## Input Video (MPEG)"
   ]
  },
  {
   "cell_type": "code",
   "execution_count": 42,
   "metadata": {},
   "outputs": [
    {
     "data": {
      "text/html": [
       "<div>\n",
       "<style scoped>\n",
       "    .dataframe tbody tr th:only-of-type {\n",
       "        vertical-align: middle;\n",
       "    }\n",
       "\n",
       "    .dataframe tbody tr th {\n",
       "        vertical-align: top;\n",
       "    }\n",
       "\n",
       "    .dataframe thead th {\n",
       "        text-align: right;\n",
       "    }\n",
       "</style>\n",
       "<table border=\"1\" class=\"dataframe\">\n",
       "  <thead>\n",
       "    <tr style=\"text-align: right;\">\n",
       "      <th></th>\n",
       "      <th>id</th>\n",
       "      <th>duration</th>\n",
       "      <th>codec</th>\n",
       "      <th>width</th>\n",
       "      <th>height</th>\n",
       "      <th>bitrate</th>\n",
       "      <th>framerate</th>\n",
       "      <th>i</th>\n",
       "      <th>p</th>\n",
       "      <th>b</th>\n",
       "      <th>...</th>\n",
       "      <th>p_size</th>\n",
       "      <th>b_size</th>\n",
       "      <th>size</th>\n",
       "      <th>o_codec</th>\n",
       "      <th>o_bitrate</th>\n",
       "      <th>o_framerate</th>\n",
       "      <th>o_width</th>\n",
       "      <th>o_height</th>\n",
       "      <th>umem</th>\n",
       "      <th>utime</th>\n",
       "    </tr>\n",
       "  </thead>\n",
       "  <tbody>\n",
       "    <tr>\n",
       "      <th>0</th>\n",
       "      <td>04t6-jw9czg</td>\n",
       "      <td>130.35667</td>\n",
       "      <td>mpeg4</td>\n",
       "      <td>176</td>\n",
       "      <td>144</td>\n",
       "      <td>54590</td>\n",
       "      <td>12.0</td>\n",
       "      <td>27</td>\n",
       "      <td>1537</td>\n",
       "      <td>0</td>\n",
       "      <td>...</td>\n",
       "      <td>825054</td>\n",
       "      <td>0</td>\n",
       "      <td>889537</td>\n",
       "      <td>mpeg4</td>\n",
       "      <td>56000</td>\n",
       "      <td>12.0</td>\n",
       "      <td>176</td>\n",
       "      <td>144</td>\n",
       "      <td>22508</td>\n",
       "      <td>0.612</td>\n",
       "    </tr>\n",
       "    <tr>\n",
       "      <th>1</th>\n",
       "      <td>04t6-jw9czg</td>\n",
       "      <td>130.35667</td>\n",
       "      <td>mpeg4</td>\n",
       "      <td>176</td>\n",
       "      <td>144</td>\n",
       "      <td>54590</td>\n",
       "      <td>12.0</td>\n",
       "      <td>27</td>\n",
       "      <td>1537</td>\n",
       "      <td>0</td>\n",
       "      <td>...</td>\n",
       "      <td>825054</td>\n",
       "      <td>0</td>\n",
       "      <td>889537</td>\n",
       "      <td>mpeg4</td>\n",
       "      <td>56000</td>\n",
       "      <td>12.0</td>\n",
       "      <td>320</td>\n",
       "      <td>240</td>\n",
       "      <td>25164</td>\n",
       "      <td>0.980</td>\n",
       "    </tr>\n",
       "    <tr>\n",
       "      <th>2</th>\n",
       "      <td>04t6-jw9czg</td>\n",
       "      <td>130.35667</td>\n",
       "      <td>mpeg4</td>\n",
       "      <td>176</td>\n",
       "      <td>144</td>\n",
       "      <td>54590</td>\n",
       "      <td>12.0</td>\n",
       "      <td>27</td>\n",
       "      <td>1537</td>\n",
       "      <td>0</td>\n",
       "      <td>...</td>\n",
       "      <td>825054</td>\n",
       "      <td>0</td>\n",
       "      <td>889537</td>\n",
       "      <td>mpeg4</td>\n",
       "      <td>56000</td>\n",
       "      <td>12.0</td>\n",
       "      <td>480</td>\n",
       "      <td>360</td>\n",
       "      <td>29228</td>\n",
       "      <td>1.216</td>\n",
       "    </tr>\n",
       "    <tr>\n",
       "      <th>3</th>\n",
       "      <td>04t6-jw9czg</td>\n",
       "      <td>130.35667</td>\n",
       "      <td>mpeg4</td>\n",
       "      <td>176</td>\n",
       "      <td>144</td>\n",
       "      <td>54590</td>\n",
       "      <td>12.0</td>\n",
       "      <td>27</td>\n",
       "      <td>1537</td>\n",
       "      <td>0</td>\n",
       "      <td>...</td>\n",
       "      <td>825054</td>\n",
       "      <td>0</td>\n",
       "      <td>889537</td>\n",
       "      <td>mpeg4</td>\n",
       "      <td>56000</td>\n",
       "      <td>12.0</td>\n",
       "      <td>640</td>\n",
       "      <td>480</td>\n",
       "      <td>34316</td>\n",
       "      <td>1.692</td>\n",
       "    </tr>\n",
       "    <tr>\n",
       "      <th>4</th>\n",
       "      <td>04t6-jw9czg</td>\n",
       "      <td>130.35667</td>\n",
       "      <td>mpeg4</td>\n",
       "      <td>176</td>\n",
       "      <td>144</td>\n",
       "      <td>54590</td>\n",
       "      <td>12.0</td>\n",
       "      <td>27</td>\n",
       "      <td>1537</td>\n",
       "      <td>0</td>\n",
       "      <td>...</td>\n",
       "      <td>825054</td>\n",
       "      <td>0</td>\n",
       "      <td>889537</td>\n",
       "      <td>mpeg4</td>\n",
       "      <td>56000</td>\n",
       "      <td>12.0</td>\n",
       "      <td>1280</td>\n",
       "      <td>720</td>\n",
       "      <td>58528</td>\n",
       "      <td>3.456</td>\n",
       "    </tr>\n",
       "  </tbody>\n",
       "</table>\n",
       "<p>5 rows × 22 columns</p>\n",
       "</div>"
      ],
      "text/plain": [
       "            id   duration  codec  width  height  bitrate  framerate   i     p  \\\n",
       "0  04t6-jw9czg  130.35667  mpeg4    176     144    54590       12.0  27  1537   \n",
       "1  04t6-jw9czg  130.35667  mpeg4    176     144    54590       12.0  27  1537   \n",
       "2  04t6-jw9czg  130.35667  mpeg4    176     144    54590       12.0  27  1537   \n",
       "3  04t6-jw9czg  130.35667  mpeg4    176     144    54590       12.0  27  1537   \n",
       "4  04t6-jw9czg  130.35667  mpeg4    176     144    54590       12.0  27  1537   \n",
       "\n",
       "   b  ...    p_size  b_size    size  o_codec  o_bitrate o_framerate  o_width  \\\n",
       "0  0  ...    825054       0  889537    mpeg4      56000        12.0      176   \n",
       "1  0  ...    825054       0  889537    mpeg4      56000        12.0      320   \n",
       "2  0  ...    825054       0  889537    mpeg4      56000        12.0      480   \n",
       "3  0  ...    825054       0  889537    mpeg4      56000        12.0      640   \n",
       "4  0  ...    825054       0  889537    mpeg4      56000        12.0     1280   \n",
       "\n",
       "   o_height   umem  utime  \n",
       "0       144  22508  0.612  \n",
       "1       240  25164  0.980  \n",
       "2       360  29228  1.216  \n",
       "3       480  34316  1.692  \n",
       "4       720  58528  3.456  \n",
       "\n",
       "[5 rows x 22 columns]"
      ]
     },
     "execution_count": 42,
     "metadata": {},
     "output_type": "execute_result"
    }
   ],
   "source": [
    "input_video_df.head()"
   ]
  },
  {
   "cell_type": "code",
   "execution_count": 43,
   "metadata": {},
   "outputs": [
    {
     "data": {
      "text/plain": [
       "Index(['id', 'duration', 'codec', 'width', 'height', 'bitrate', 'framerate',\n",
       "       'i', 'p', 'b', 'frames', 'i_size', 'p_size', 'b_size', 'size',\n",
       "       'o_codec', 'o_bitrate', 'o_framerate', 'o_width', 'o_height', 'umem',\n",
       "       'utime'],\n",
       "      dtype='object')"
      ]
     },
     "execution_count": 43,
     "metadata": {},
     "output_type": "execute_result"
    }
   ],
   "source": [
    "input_video_df.columns"
   ]
  },
  {
   "cell_type": "markdown",
   "metadata": {},
   "source": [
    "## Output Decoded Video"
   ]
  },
  {
   "cell_type": "code",
   "execution_count": 44,
   "metadata": {},
   "outputs": [
    {
     "data": {
      "text/html": [
       "<div>\n",
       "<style scoped>\n",
       "    .dataframe tbody tr th:only-of-type {\n",
       "        vertical-align: middle;\n",
       "    }\n",
       "\n",
       "    .dataframe tbody tr th {\n",
       "        vertical-align: top;\n",
       "    }\n",
       "\n",
       "    .dataframe thead th {\n",
       "        text-align: right;\n",
       "    }\n",
       "</style>\n",
       "<table border=\"1\" class=\"dataframe\">\n",
       "  <thead>\n",
       "    <tr style=\"text-align: right;\">\n",
       "      <th></th>\n",
       "      <th>id</th>\n",
       "      <th>duration</th>\n",
       "      <th>bitrate</th>\n",
       "      <th>bitrate(video)</th>\n",
       "      <th>height</th>\n",
       "      <th>width</th>\n",
       "      <th>frame rate</th>\n",
       "      <th>frame rate(est.)</th>\n",
       "      <th>codec</th>\n",
       "      <th>category</th>\n",
       "      <th>url</th>\n",
       "    </tr>\n",
       "  </thead>\n",
       "  <tbody>\n",
       "    <tr>\n",
       "      <th>0</th>\n",
       "      <td>uDNj-_5ty48</td>\n",
       "      <td>267</td>\n",
       "      <td>373</td>\n",
       "      <td>274</td>\n",
       "      <td>568</td>\n",
       "      <td>320</td>\n",
       "      <td>29.97</td>\n",
       "      <td>0.00</td>\n",
       "      <td>h264</td>\n",
       "      <td>Music</td>\n",
       "      <td>http://r2---sn-ovgq0oxu-5goe.c.youtube.com/vid...</td>\n",
       "    </tr>\n",
       "    <tr>\n",
       "      <th>1</th>\n",
       "      <td>uDNj-_5ty48</td>\n",
       "      <td>267</td>\n",
       "      <td>512</td>\n",
       "      <td>396</td>\n",
       "      <td>480</td>\n",
       "      <td>270</td>\n",
       "      <td>29.97</td>\n",
       "      <td>29.97</td>\n",
       "      <td>h264</td>\n",
       "      <td>Music</td>\n",
       "      <td>http://r2---sn-ovgq0oxu-5goe.c.youtube.com/vid...</td>\n",
       "    </tr>\n",
       "    <tr>\n",
       "      <th>2</th>\n",
       "      <td>uDNj-_5ty48</td>\n",
       "      <td>267</td>\n",
       "      <td>324</td>\n",
       "      <td>263</td>\n",
       "      <td>400</td>\n",
       "      <td>226</td>\n",
       "      <td>29.97</td>\n",
       "      <td>29.97</td>\n",
       "      <td>flv1</td>\n",
       "      <td>Music</td>\n",
       "      <td>http://r2---sn-ovgq0oxu-5goe.c.youtube.com/vid...</td>\n",
       "    </tr>\n",
       "    <tr>\n",
       "      <th>3</th>\n",
       "      <td>uDNj-_5ty48</td>\n",
       "      <td>267</td>\n",
       "      <td>85</td>\n",
       "      <td>55</td>\n",
       "      <td>176</td>\n",
       "      <td>144</td>\n",
       "      <td>12.00</td>\n",
       "      <td>12.00</td>\n",
       "      <td>mpeg4</td>\n",
       "      <td>Music</td>\n",
       "      <td>http://r2---sn-ovgq0oxu-5goe.c.youtube.com/vid...</td>\n",
       "    </tr>\n",
       "    <tr>\n",
       "      <th>4</th>\n",
       "      <td>WCgt-AactyY</td>\n",
       "      <td>31</td>\n",
       "      <td>1261</td>\n",
       "      <td>1183</td>\n",
       "      <td>640</td>\n",
       "      <td>480</td>\n",
       "      <td>24.00</td>\n",
       "      <td>0.00</td>\n",
       "      <td>h264</td>\n",
       "      <td>People &amp; Blogs</td>\n",
       "      <td>http://r1---sn-ovgq0oxu-5goe.c.youtube.com/vid...</td>\n",
       "    </tr>\n",
       "  </tbody>\n",
       "</table>\n",
       "</div>"
      ],
      "text/plain": [
       "            id  duration  bitrate  bitrate(video)  height  width  frame rate  \\\n",
       "0  uDNj-_5ty48       267      373             274     568    320       29.97   \n",
       "1  uDNj-_5ty48       267      512             396     480    270       29.97   \n",
       "2  uDNj-_5ty48       267      324             263     400    226       29.97   \n",
       "3  uDNj-_5ty48       267       85              55     176    144       12.00   \n",
       "4  WCgt-AactyY        31     1261            1183     640    480       24.00   \n",
       "\n",
       "   frame rate(est.)  codec        category  \\\n",
       "0              0.00   h264           Music   \n",
       "1             29.97   h264           Music   \n",
       "2             29.97   flv1           Music   \n",
       "3             12.00  mpeg4           Music   \n",
       "4              0.00   h264  People & Blogs   \n",
       "\n",
       "                                                 url  \n",
       "0  http://r2---sn-ovgq0oxu-5goe.c.youtube.com/vid...  \n",
       "1  http://r2---sn-ovgq0oxu-5goe.c.youtube.com/vid...  \n",
       "2  http://r2---sn-ovgq0oxu-5goe.c.youtube.com/vid...  \n",
       "3  http://r2---sn-ovgq0oxu-5goe.c.youtube.com/vid...  \n",
       "4  http://r1---sn-ovgq0oxu-5goe.c.youtube.com/vid...  "
      ]
     },
     "execution_count": 44,
     "metadata": {},
     "output_type": "execute_result"
    }
   ],
   "source": [
    "output_video_df.head()"
   ]
  },
  {
   "cell_type": "markdown",
   "metadata": {},
   "source": [
    "## Select Features for Gradient Descent on Multiple Variables\n",
    "\n",
    "In the paper, they selected these features:\n",
    "\n",
    "### From input video\n",
    "\n",
    "* bitrate\n",
    "* framerate\n",
    "* resolution\n",
    "* codec\n",
    "* number of i frames\n",
    "* number of p frames\n",
    "* number of b frames\n",
    "* size of i frames\n",
    "* size of p frames\n",
    "* size of b frames \n",
    "\n",
    "### From output video\n",
    "\n",
    "* desired bitrate\n",
    "* framerate\n",
    "* resolution\n",
    "* codec\n",
    "\n",
    "### Predict\n",
    "\n",
    "* transcoding rate - measured in frames per second (fps) is defined as the number of frames transcoded per unit time (sec). Higher transcoding rate indicates better throughput, reduced delay and total cost of the system"
   ]
  },
  {
   "cell_type": "markdown",
   "metadata": {},
   "source": [
    "### Description of Features\n",
    "\n",
    "* id = Youtube video id \n",
    "* duration = duration of video \n",
    "* bitrate bitrate(video) = video bitrate \n",
    "* height = height of video in pixles \n",
    "* width = width of video in pixles \n",
    "* frame rate = actual video frame rate \n",
    "* frame rate(est.) = estimated video frame rate \n",
    "* codec = coding standard used for the video \n",
    "* category = YouTube video category \n",
    "* url = direct link to video (has expiration date) \n",
    "* i = number of i frames in the video \n",
    "* p = number of p frames in the video \n",
    "* b = number of b frames in the video \n",
    "* frames = number of frames in video \n",
    "* i_size = total size in byte of i videos \n",
    "* p_size = total size in byte of p videos \n",
    "* b_size = total size in byte of b videos \n",
    "* size = total size of video \n",
    "* o_codec = output codec used for transcoding \n",
    "* o_bitrate = output bitrate used for transcoding \n",
    "* o_framerate = output framerate used for transcoding \n",
    "* o_width = output width in pixel used for transcoding \n",
    "* o_height = output height used in pixel for transcoding \n",
    "* umem = total codec allocated memory for transcoding \n",
    "* utime = total transcoding time for transcoding"
   ]
  },
  {
   "cell_type": "markdown",
   "metadata": {},
   "source": [
    "## Extract Features"
   ]
  },
  {
   "cell_type": "code",
   "execution_count": 45,
   "metadata": {
    "collapsed": true
   },
   "outputs": [],
   "source": [
    "# let height = resolution\n",
    "\n",
    "input_video_df_filtered = input_video_df[['bitrate', 'framerate', 'height', 'codec', 'i', 'p', 'b', 'i_size', 'p_size', \n",
    "                                          'b_size']]\n",
    "output_video_df_filtered = output_video_df[['bitrate', 'frame rate', 'height', 'codec']]"
   ]
  },
  {
   "cell_type": "code",
   "execution_count": 46,
   "metadata": {},
   "outputs": [
    {
     "data": {
      "text/html": [
       "<div>\n",
       "<style scoped>\n",
       "    .dataframe tbody tr th:only-of-type {\n",
       "        vertical-align: middle;\n",
       "    }\n",
       "\n",
       "    .dataframe tbody tr th {\n",
       "        vertical-align: top;\n",
       "    }\n",
       "\n",
       "    .dataframe thead th {\n",
       "        text-align: right;\n",
       "    }\n",
       "</style>\n",
       "<table border=\"1\" class=\"dataframe\">\n",
       "  <thead>\n",
       "    <tr style=\"text-align: right;\">\n",
       "      <th></th>\n",
       "      <th>bitrate</th>\n",
       "      <th>framerate</th>\n",
       "      <th>height</th>\n",
       "      <th>codec</th>\n",
       "      <th>i</th>\n",
       "      <th>p</th>\n",
       "      <th>b</th>\n",
       "      <th>i_size</th>\n",
       "      <th>p_size</th>\n",
       "      <th>b_size</th>\n",
       "    </tr>\n",
       "  </thead>\n",
       "  <tbody>\n",
       "    <tr>\n",
       "      <th>0</th>\n",
       "      <td>54590</td>\n",
       "      <td>12.0</td>\n",
       "      <td>144</td>\n",
       "      <td>mpeg4</td>\n",
       "      <td>27</td>\n",
       "      <td>1537</td>\n",
       "      <td>0</td>\n",
       "      <td>64483</td>\n",
       "      <td>825054</td>\n",
       "      <td>0</td>\n",
       "    </tr>\n",
       "    <tr>\n",
       "      <th>1</th>\n",
       "      <td>54590</td>\n",
       "      <td>12.0</td>\n",
       "      <td>144</td>\n",
       "      <td>mpeg4</td>\n",
       "      <td>27</td>\n",
       "      <td>1537</td>\n",
       "      <td>0</td>\n",
       "      <td>64483</td>\n",
       "      <td>825054</td>\n",
       "      <td>0</td>\n",
       "    </tr>\n",
       "    <tr>\n",
       "      <th>2</th>\n",
       "      <td>54590</td>\n",
       "      <td>12.0</td>\n",
       "      <td>144</td>\n",
       "      <td>mpeg4</td>\n",
       "      <td>27</td>\n",
       "      <td>1537</td>\n",
       "      <td>0</td>\n",
       "      <td>64483</td>\n",
       "      <td>825054</td>\n",
       "      <td>0</td>\n",
       "    </tr>\n",
       "    <tr>\n",
       "      <th>3</th>\n",
       "      <td>54590</td>\n",
       "      <td>12.0</td>\n",
       "      <td>144</td>\n",
       "      <td>mpeg4</td>\n",
       "      <td>27</td>\n",
       "      <td>1537</td>\n",
       "      <td>0</td>\n",
       "      <td>64483</td>\n",
       "      <td>825054</td>\n",
       "      <td>0</td>\n",
       "    </tr>\n",
       "    <tr>\n",
       "      <th>4</th>\n",
       "      <td>54590</td>\n",
       "      <td>12.0</td>\n",
       "      <td>144</td>\n",
       "      <td>mpeg4</td>\n",
       "      <td>27</td>\n",
       "      <td>1537</td>\n",
       "      <td>0</td>\n",
       "      <td>64483</td>\n",
       "      <td>825054</td>\n",
       "      <td>0</td>\n",
       "    </tr>\n",
       "  </tbody>\n",
       "</table>\n",
       "</div>"
      ],
      "text/plain": [
       "   bitrate  framerate  height  codec   i     p  b  i_size  p_size  b_size\n",
       "0    54590       12.0     144  mpeg4  27  1537  0   64483  825054       0\n",
       "1    54590       12.0     144  mpeg4  27  1537  0   64483  825054       0\n",
       "2    54590       12.0     144  mpeg4  27  1537  0   64483  825054       0\n",
       "3    54590       12.0     144  mpeg4  27  1537  0   64483  825054       0\n",
       "4    54590       12.0     144  mpeg4  27  1537  0   64483  825054       0"
      ]
     },
     "execution_count": 46,
     "metadata": {},
     "output_type": "execute_result"
    }
   ],
   "source": [
    "input_video_df_filtered.head()"
   ]
  },
  {
   "cell_type": "code",
   "execution_count": 47,
   "metadata": {},
   "outputs": [
    {
     "data": {
      "text/html": [
       "<div>\n",
       "<style scoped>\n",
       "    .dataframe tbody tr th:only-of-type {\n",
       "        vertical-align: middle;\n",
       "    }\n",
       "\n",
       "    .dataframe tbody tr th {\n",
       "        vertical-align: top;\n",
       "    }\n",
       "\n",
       "    .dataframe thead th {\n",
       "        text-align: right;\n",
       "    }\n",
       "</style>\n",
       "<table border=\"1\" class=\"dataframe\">\n",
       "  <thead>\n",
       "    <tr style=\"text-align: right;\">\n",
       "      <th></th>\n",
       "      <th>bitrate</th>\n",
       "      <th>frame rate</th>\n",
       "      <th>height</th>\n",
       "      <th>codec</th>\n",
       "    </tr>\n",
       "  </thead>\n",
       "  <tbody>\n",
       "    <tr>\n",
       "      <th>0</th>\n",
       "      <td>373</td>\n",
       "      <td>29.97</td>\n",
       "      <td>568</td>\n",
       "      <td>h264</td>\n",
       "    </tr>\n",
       "    <tr>\n",
       "      <th>1</th>\n",
       "      <td>512</td>\n",
       "      <td>29.97</td>\n",
       "      <td>480</td>\n",
       "      <td>h264</td>\n",
       "    </tr>\n",
       "    <tr>\n",
       "      <th>2</th>\n",
       "      <td>324</td>\n",
       "      <td>29.97</td>\n",
       "      <td>400</td>\n",
       "      <td>flv1</td>\n",
       "    </tr>\n",
       "    <tr>\n",
       "      <th>3</th>\n",
       "      <td>85</td>\n",
       "      <td>12.00</td>\n",
       "      <td>176</td>\n",
       "      <td>mpeg4</td>\n",
       "    </tr>\n",
       "    <tr>\n",
       "      <th>4</th>\n",
       "      <td>1261</td>\n",
       "      <td>24.00</td>\n",
       "      <td>640</td>\n",
       "      <td>h264</td>\n",
       "    </tr>\n",
       "  </tbody>\n",
       "</table>\n",
       "</div>"
      ],
      "text/plain": [
       "   bitrate  frame rate  height  codec\n",
       "0      373       29.97     568   h264\n",
       "1      512       29.97     480   h264\n",
       "2      324       29.97     400   flv1\n",
       "3       85       12.00     176  mpeg4\n",
       "4     1261       24.00     640   h264"
      ]
     },
     "execution_count": 47,
     "metadata": {},
     "output_type": "execute_result"
    }
   ],
   "source": [
    "output_video_df_filtered.head()"
   ]
  },
  {
   "cell_type": "markdown",
   "metadata": {},
   "source": [
    "## Give Features Friendlier Names"
   ]
  },
  {
   "cell_type": "code",
   "execution_count": 48,
   "metadata": {},
   "outputs": [],
   "source": [
    "input_video_df_filtered = input_video_df_filtered.rename(index=str, columns={\"bitrate\": \"input_bitrate\", \n",
    "                                                                             \"framerate\": \"input_framerate\", \n",
    "                                                                             \"height\": \"input_resolution\", \"codec\": \"input_codec\"})\n",
    "output_video_df_filtered = output_video_df_filtered.rename(index=str, columns={\"bitrate\": \"output_bitrate\", \"frame rate\": \"output_framerate\", \"height\": \"output_resolution\", \"codec\": \"output_codec\"})"
   ]
  },
  {
   "cell_type": "code",
   "execution_count": 49,
   "metadata": {},
   "outputs": [
    {
     "data": {
      "text/html": [
       "<div>\n",
       "<style scoped>\n",
       "    .dataframe tbody tr th:only-of-type {\n",
       "        vertical-align: middle;\n",
       "    }\n",
       "\n",
       "    .dataframe tbody tr th {\n",
       "        vertical-align: top;\n",
       "    }\n",
       "\n",
       "    .dataframe thead th {\n",
       "        text-align: right;\n",
       "    }\n",
       "</style>\n",
       "<table border=\"1\" class=\"dataframe\">\n",
       "  <thead>\n",
       "    <tr style=\"text-align: right;\">\n",
       "      <th></th>\n",
       "      <th>input_bitrate</th>\n",
       "      <th>input_framerate</th>\n",
       "      <th>input_resolution</th>\n",
       "      <th>input_codec</th>\n",
       "      <th>i</th>\n",
       "      <th>p</th>\n",
       "      <th>b</th>\n",
       "      <th>i_size</th>\n",
       "      <th>p_size</th>\n",
       "      <th>b_size</th>\n",
       "    </tr>\n",
       "  </thead>\n",
       "  <tbody>\n",
       "    <tr>\n",
       "      <th>0</th>\n",
       "      <td>54590</td>\n",
       "      <td>12.0</td>\n",
       "      <td>144</td>\n",
       "      <td>mpeg4</td>\n",
       "      <td>27</td>\n",
       "      <td>1537</td>\n",
       "      <td>0</td>\n",
       "      <td>64483</td>\n",
       "      <td>825054</td>\n",
       "      <td>0</td>\n",
       "    </tr>\n",
       "    <tr>\n",
       "      <th>1</th>\n",
       "      <td>54590</td>\n",
       "      <td>12.0</td>\n",
       "      <td>144</td>\n",
       "      <td>mpeg4</td>\n",
       "      <td>27</td>\n",
       "      <td>1537</td>\n",
       "      <td>0</td>\n",
       "      <td>64483</td>\n",
       "      <td>825054</td>\n",
       "      <td>0</td>\n",
       "    </tr>\n",
       "    <tr>\n",
       "      <th>2</th>\n",
       "      <td>54590</td>\n",
       "      <td>12.0</td>\n",
       "      <td>144</td>\n",
       "      <td>mpeg4</td>\n",
       "      <td>27</td>\n",
       "      <td>1537</td>\n",
       "      <td>0</td>\n",
       "      <td>64483</td>\n",
       "      <td>825054</td>\n",
       "      <td>0</td>\n",
       "    </tr>\n",
       "    <tr>\n",
       "      <th>3</th>\n",
       "      <td>54590</td>\n",
       "      <td>12.0</td>\n",
       "      <td>144</td>\n",
       "      <td>mpeg4</td>\n",
       "      <td>27</td>\n",
       "      <td>1537</td>\n",
       "      <td>0</td>\n",
       "      <td>64483</td>\n",
       "      <td>825054</td>\n",
       "      <td>0</td>\n",
       "    </tr>\n",
       "    <tr>\n",
       "      <th>4</th>\n",
       "      <td>54590</td>\n",
       "      <td>12.0</td>\n",
       "      <td>144</td>\n",
       "      <td>mpeg4</td>\n",
       "      <td>27</td>\n",
       "      <td>1537</td>\n",
       "      <td>0</td>\n",
       "      <td>64483</td>\n",
       "      <td>825054</td>\n",
       "      <td>0</td>\n",
       "    </tr>\n",
       "  </tbody>\n",
       "</table>\n",
       "</div>"
      ],
      "text/plain": [
       "   input_bitrate  input_framerate  input_resolution input_codec   i     p  b  \\\n",
       "0          54590             12.0               144       mpeg4  27  1537  0   \n",
       "1          54590             12.0               144       mpeg4  27  1537  0   \n",
       "2          54590             12.0               144       mpeg4  27  1537  0   \n",
       "3          54590             12.0               144       mpeg4  27  1537  0   \n",
       "4          54590             12.0               144       mpeg4  27  1537  0   \n",
       "\n",
       "   i_size  p_size  b_size  \n",
       "0   64483  825054       0  \n",
       "1   64483  825054       0  \n",
       "2   64483  825054       0  \n",
       "3   64483  825054       0  \n",
       "4   64483  825054       0  "
      ]
     },
     "execution_count": 49,
     "metadata": {},
     "output_type": "execute_result"
    }
   ],
   "source": [
    "input_video_df_filtered.head()"
   ]
  },
  {
   "cell_type": "code",
   "execution_count": 50,
   "metadata": {},
   "outputs": [
    {
     "data": {
      "text/html": [
       "<div>\n",
       "<style scoped>\n",
       "    .dataframe tbody tr th:only-of-type {\n",
       "        vertical-align: middle;\n",
       "    }\n",
       "\n",
       "    .dataframe tbody tr th {\n",
       "        vertical-align: top;\n",
       "    }\n",
       "\n",
       "    .dataframe thead th {\n",
       "        text-align: right;\n",
       "    }\n",
       "</style>\n",
       "<table border=\"1\" class=\"dataframe\">\n",
       "  <thead>\n",
       "    <tr style=\"text-align: right;\">\n",
       "      <th></th>\n",
       "      <th>output_bitrate</th>\n",
       "      <th>output_framerate</th>\n",
       "      <th>output_resolution</th>\n",
       "      <th>output_codec</th>\n",
       "    </tr>\n",
       "  </thead>\n",
       "  <tbody>\n",
       "    <tr>\n",
       "      <th>0</th>\n",
       "      <td>373</td>\n",
       "      <td>29.97</td>\n",
       "      <td>568</td>\n",
       "      <td>h264</td>\n",
       "    </tr>\n",
       "    <tr>\n",
       "      <th>1</th>\n",
       "      <td>512</td>\n",
       "      <td>29.97</td>\n",
       "      <td>480</td>\n",
       "      <td>h264</td>\n",
       "    </tr>\n",
       "    <tr>\n",
       "      <th>2</th>\n",
       "      <td>324</td>\n",
       "      <td>29.97</td>\n",
       "      <td>400</td>\n",
       "      <td>flv1</td>\n",
       "    </tr>\n",
       "    <tr>\n",
       "      <th>3</th>\n",
       "      <td>85</td>\n",
       "      <td>12.00</td>\n",
       "      <td>176</td>\n",
       "      <td>mpeg4</td>\n",
       "    </tr>\n",
       "    <tr>\n",
       "      <th>4</th>\n",
       "      <td>1261</td>\n",
       "      <td>24.00</td>\n",
       "      <td>640</td>\n",
       "      <td>h264</td>\n",
       "    </tr>\n",
       "  </tbody>\n",
       "</table>\n",
       "</div>"
      ],
      "text/plain": [
       "   output_bitrate  output_framerate  output_resolution output_codec\n",
       "0             373             29.97                568         h264\n",
       "1             512             29.97                480         h264\n",
       "2             324             29.97                400         flv1\n",
       "3              85             12.00                176        mpeg4\n",
       "4            1261             24.00                640         h264"
      ]
     },
     "execution_count": 50,
     "metadata": {},
     "output_type": "execute_result"
    }
   ],
   "source": [
    "output_video_df_filtered.head()"
   ]
  },
  {
   "cell_type": "markdown",
   "metadata": {},
   "source": [
    "## Create X and y DataFrames"
   ]
  },
  {
   "cell_type": "code",
   "execution_count": 54,
   "metadata": {},
   "outputs": [],
   "source": [
    "X = input_video_df_filtered.join(output_video_df_filtered)\n",
    "y = input_video_df[['utime']]"
   ]
  },
  {
   "cell_type": "code",
   "execution_count": 55,
   "metadata": {},
   "outputs": [
    {
     "data": {
      "text/html": [
       "<div>\n",
       "<style scoped>\n",
       "    .dataframe tbody tr th:only-of-type {\n",
       "        vertical-align: middle;\n",
       "    }\n",
       "\n",
       "    .dataframe tbody tr th {\n",
       "        vertical-align: top;\n",
       "    }\n",
       "\n",
       "    .dataframe thead th {\n",
       "        text-align: right;\n",
       "    }\n",
       "</style>\n",
       "<table border=\"1\" class=\"dataframe\">\n",
       "  <thead>\n",
       "    <tr style=\"text-align: right;\">\n",
       "      <th></th>\n",
       "      <th>input_bitrate</th>\n",
       "      <th>input_framerate</th>\n",
       "      <th>input_resolution</th>\n",
       "      <th>input_codec</th>\n",
       "      <th>i</th>\n",
       "      <th>p</th>\n",
       "      <th>b</th>\n",
       "      <th>i_size</th>\n",
       "      <th>p_size</th>\n",
       "      <th>b_size</th>\n",
       "      <th>output_bitrate</th>\n",
       "      <th>output_framerate</th>\n",
       "      <th>output_resolution</th>\n",
       "      <th>output_codec</th>\n",
       "    </tr>\n",
       "  </thead>\n",
       "  <tbody>\n",
       "    <tr>\n",
       "      <th>0</th>\n",
       "      <td>54590</td>\n",
       "      <td>12.0</td>\n",
       "      <td>144</td>\n",
       "      <td>mpeg4</td>\n",
       "      <td>27</td>\n",
       "      <td>1537</td>\n",
       "      <td>0</td>\n",
       "      <td>64483</td>\n",
       "      <td>825054</td>\n",
       "      <td>0</td>\n",
       "      <td>373</td>\n",
       "      <td>29.97</td>\n",
       "      <td>568</td>\n",
       "      <td>h264</td>\n",
       "    </tr>\n",
       "    <tr>\n",
       "      <th>1</th>\n",
       "      <td>54590</td>\n",
       "      <td>12.0</td>\n",
       "      <td>144</td>\n",
       "      <td>mpeg4</td>\n",
       "      <td>27</td>\n",
       "      <td>1537</td>\n",
       "      <td>0</td>\n",
       "      <td>64483</td>\n",
       "      <td>825054</td>\n",
       "      <td>0</td>\n",
       "      <td>512</td>\n",
       "      <td>29.97</td>\n",
       "      <td>480</td>\n",
       "      <td>h264</td>\n",
       "    </tr>\n",
       "    <tr>\n",
       "      <th>2</th>\n",
       "      <td>54590</td>\n",
       "      <td>12.0</td>\n",
       "      <td>144</td>\n",
       "      <td>mpeg4</td>\n",
       "      <td>27</td>\n",
       "      <td>1537</td>\n",
       "      <td>0</td>\n",
       "      <td>64483</td>\n",
       "      <td>825054</td>\n",
       "      <td>0</td>\n",
       "      <td>324</td>\n",
       "      <td>29.97</td>\n",
       "      <td>400</td>\n",
       "      <td>flv1</td>\n",
       "    </tr>\n",
       "    <tr>\n",
       "      <th>3</th>\n",
       "      <td>54590</td>\n",
       "      <td>12.0</td>\n",
       "      <td>144</td>\n",
       "      <td>mpeg4</td>\n",
       "      <td>27</td>\n",
       "      <td>1537</td>\n",
       "      <td>0</td>\n",
       "      <td>64483</td>\n",
       "      <td>825054</td>\n",
       "      <td>0</td>\n",
       "      <td>85</td>\n",
       "      <td>12.00</td>\n",
       "      <td>176</td>\n",
       "      <td>mpeg4</td>\n",
       "    </tr>\n",
       "    <tr>\n",
       "      <th>4</th>\n",
       "      <td>54590</td>\n",
       "      <td>12.0</td>\n",
       "      <td>144</td>\n",
       "      <td>mpeg4</td>\n",
       "      <td>27</td>\n",
       "      <td>1537</td>\n",
       "      <td>0</td>\n",
       "      <td>64483</td>\n",
       "      <td>825054</td>\n",
       "      <td>0</td>\n",
       "      <td>1261</td>\n",
       "      <td>24.00</td>\n",
       "      <td>640</td>\n",
       "      <td>h264</td>\n",
       "    </tr>\n",
       "  </tbody>\n",
       "</table>\n",
       "</div>"
      ],
      "text/plain": [
       "   input_bitrate  input_framerate  input_resolution input_codec   i     p  b  \\\n",
       "0          54590             12.0               144       mpeg4  27  1537  0   \n",
       "1          54590             12.0               144       mpeg4  27  1537  0   \n",
       "2          54590             12.0               144       mpeg4  27  1537  0   \n",
       "3          54590             12.0               144       mpeg4  27  1537  0   \n",
       "4          54590             12.0               144       mpeg4  27  1537  0   \n",
       "\n",
       "   i_size  p_size  b_size  output_bitrate  output_framerate  \\\n",
       "0   64483  825054       0             373             29.97   \n",
       "1   64483  825054       0             512             29.97   \n",
       "2   64483  825054       0             324             29.97   \n",
       "3   64483  825054       0              85             12.00   \n",
       "4   64483  825054       0            1261             24.00   \n",
       "\n",
       "   output_resolution output_codec  \n",
       "0                568         h264  \n",
       "1                480         h264  \n",
       "2                400         flv1  \n",
       "3                176        mpeg4  \n",
       "4                640         h264  "
      ]
     },
     "execution_count": 55,
     "metadata": {},
     "output_type": "execute_result"
    }
   ],
   "source": [
    "X.head()"
   ]
  },
  {
   "cell_type": "code",
   "execution_count": 52,
   "metadata": {},
   "outputs": [
    {
     "ename": "NameError",
     "evalue": "name 'np' is not defined",
     "output_type": "error",
     "traceback": [
      "\u001b[1;31m---------------------------------------------------------------------------\u001b[0m",
      "\u001b[1;31mNameError\u001b[0m                                 Traceback (most recent call last)",
      "\u001b[1;32m<ipython-input-52-2fa46575aee6>\u001b[0m in \u001b[0;36m<module>\u001b[1;34m()\u001b[0m\n\u001b[1;32m----> 1\u001b[1;33m \u001b[0mX\u001b[0m \u001b[1;33m=\u001b[0m \u001b[0mnp\u001b[0m\u001b[1;33m.\u001b[0m\u001b[0marray\u001b[0m\u001b[1;33m(\u001b[0m\u001b[1;33m[\u001b[0m\u001b[1;33m[\u001b[0m\u001b[1;36m1\u001b[0m\u001b[1;33m,\u001b[0m \u001b[1;36m1.5\u001b[0m\u001b[1;33m,\u001b[0m \u001b[1;36m1\u001b[0m\u001b[1;33m]\u001b[0m\u001b[1;33m,\u001b[0m \u001b[1;33m[\u001b[0m\u001b[1;36m3\u001b[0m\u001b[1;33m,\u001b[0m \u001b[1;36m4\u001b[0m\u001b[1;33m,\u001b[0m \u001b[1;36m2.5\u001b[0m\u001b[1;33m]\u001b[0m\u001b[1;33m,\u001b[0m \u001b[1;33m[\u001b[0m\u001b[1;36m5\u001b[0m\u001b[1;33m,\u001b[0m \u001b[1;36m6\u001b[0m\u001b[1;33m,\u001b[0m \u001b[1;36m6.5\u001b[0m\u001b[1;33m]\u001b[0m\u001b[1;33m,\u001b[0m \u001b[1;33m[\u001b[0m\u001b[1;36m8\u001b[0m\u001b[1;33m,\u001b[0m \u001b[1;36m9.5\u001b[0m\u001b[1;33m,\u001b[0m \u001b[1;36m10\u001b[0m\u001b[1;33m]\u001b[0m\u001b[1;33m]\u001b[0m\u001b[1;33m)\u001b[0m\u001b[1;33m\u001b[0m\u001b[0m\n\u001b[0m\u001b[0;32m      2\u001b[0m \u001b[0mprint\u001b[0m\u001b[1;33m(\u001b[0m\u001b[0mX\u001b[0m\u001b[1;33m)\u001b[0m\u001b[1;33m\u001b[0m\u001b[0m\n",
      "\u001b[1;31mNameError\u001b[0m: name 'np' is not defined"
     ]
    }
   ],
   "source": [
    "X = np.array([[1, 1.5, 1], [3, 4, 2.5], [5, 6, 6.5], [8, 9.5, 10]])\n",
    "print(X)"
   ]
  },
  {
   "cell_type": "code",
   "execution_count": 53,
   "metadata": {},
   "outputs": [
    {
     "ename": "NameError",
     "evalue": "name 'np' is not defined",
     "output_type": "error",
     "traceback": [
      "\u001b[1;31m---------------------------------------------------------------------------\u001b[0m",
      "\u001b[1;31mNameError\u001b[0m                                 Traceback (most recent call last)",
      "\u001b[1;32m<ipython-input-53-bc4b9ec5e253>\u001b[0m in \u001b[0;36m<module>\u001b[1;34m()\u001b[0m\n\u001b[1;32m----> 1\u001b[1;33m \u001b[0mX\u001b[0m \u001b[1;33m=\u001b[0m \u001b[0mnp\u001b[0m\u001b[1;33m.\u001b[0m\u001b[0marray\u001b[0m\u001b[1;33m(\u001b[0m\u001b[1;33m[\u001b[0m\u001b[1;33m[\u001b[0m\u001b[1;36m1\u001b[0m\u001b[1;33m,\u001b[0m \u001b[1;36m1.5\u001b[0m\u001b[1;33m,\u001b[0m \u001b[1;36m1\u001b[0m\u001b[1;33m]\u001b[0m\u001b[1;33m,\u001b[0m \u001b[1;33m[\u001b[0m\u001b[1;36m3\u001b[0m\u001b[1;33m,\u001b[0m \u001b[1;36m4\u001b[0m\u001b[1;33m,\u001b[0m \u001b[1;36m2.5\u001b[0m\u001b[1;33m]\u001b[0m\u001b[1;33m,\u001b[0m \u001b[1;33m[\u001b[0m\u001b[1;36m5\u001b[0m\u001b[1;33m,\u001b[0m \u001b[1;36m6\u001b[0m\u001b[1;33m,\u001b[0m \u001b[1;36m6.5\u001b[0m\u001b[1;33m]\u001b[0m\u001b[1;33m,\u001b[0m \u001b[1;33m[\u001b[0m\u001b[1;36m8\u001b[0m\u001b[1;33m,\u001b[0m \u001b[1;36m9.5\u001b[0m\u001b[1;33m,\u001b[0m \u001b[1;36m10\u001b[0m\u001b[1;33m]\u001b[0m\u001b[1;33m]\u001b[0m\u001b[1;33m)\u001b[0m\u001b[1;33m\u001b[0m\u001b[0m\n\u001b[0m\u001b[0;32m      2\u001b[0m \u001b[0my\u001b[0m \u001b[1;33m=\u001b[0m \u001b[0mnp\u001b[0m\u001b[1;33m.\u001b[0m\u001b[0marray\u001b[0m\u001b[1;33m(\u001b[0m\u001b[1;33m[\u001b[0m\u001b[1;36m2\u001b[0m\u001b[1;33m,\u001b[0m \u001b[1;36m4\u001b[0m\u001b[1;33m,\u001b[0m \u001b[1;36m16\u001b[0m\u001b[1;33m,\u001b[0m \u001b[1;36m32\u001b[0m\u001b[1;33m]\u001b[0m\u001b[1;33m)\u001b[0m\u001b[1;33m\u001b[0m\u001b[0m\n\u001b[0;32m      3\u001b[0m \u001b[1;33m\u001b[0m\u001b[0m\n\u001b[0;32m      4\u001b[0m \u001b[0mX\u001b[0m \u001b[1;33m=\u001b[0m \u001b[0mpreprocessing\u001b[0m\u001b[1;33m.\u001b[0m\u001b[0mnormalize\u001b[0m\u001b[1;33m(\u001b[0m\u001b[0mX\u001b[0m\u001b[1;33m)\u001b[0m\u001b[1;33m\u001b[0m\u001b[0m\n\u001b[0;32m      5\u001b[0m \u001b[1;33m\u001b[0m\u001b[0m\n",
      "\u001b[1;31mNameError\u001b[0m: name 'np' is not defined"
     ]
    }
   ],
   "source": [
    "X = np.array([[1, 1.5, 1], [3, 4, 2.5], [5, 6, 6.5], [8, 9.5, 10]])\n",
    "y = np.array([2, 4, 16, 32])\n",
    "\n",
    "X = preprocessing.normalize(X)\n",
    "\n",
    "learning_rate = 0.01\n",
    "num_epochs = 10"
   ]
  },
  {
   "cell_type": "markdown",
   "metadata": {},
   "source": [
    "In this case, x has one feature and 4 training examples:"
   ]
  },
  {
   "cell_type": "code",
   "execution_count": 527,
   "metadata": {},
   "outputs": [
    {
     "name": "stdout",
     "output_type": "stream",
     "text": [
      "[[ 0.48507125  0.72760688  0.48507125]\n",
      " [ 0.53665631  0.71554175  0.4472136 ]\n",
      " [ 0.49206783  0.5904814   0.63968818]\n",
      " [ 0.5017178   0.59578988  0.62714725]]\n"
     ]
    }
   ],
   "source": [
    "print(X)"
   ]
  },
  {
   "cell_type": "code",
   "execution_count": 528,
   "metadata": {},
   "outputs": [
    {
     "name": "stdout",
     "output_type": "stream",
     "text": [
      "[ 2  4 16 32]\n"
     ]
    }
   ],
   "source": [
    "print(y)"
   ]
  },
  {
   "cell_type": "code",
   "execution_count": 529,
   "metadata": {
    "collapsed": true
   },
   "outputs": [],
   "source": [
    "def init_theta(X):\n",
    "    return np.zeros(X.shape[1])"
   ]
  },
  {
   "cell_type": "code",
   "execution_count": 530,
   "metadata": {
    "collapsed": true
   },
   "outputs": [],
   "source": [
    "def hypothesis(theta, X):\n",
    "    return np.dot(X, theta)"
   ]
  },
  {
   "cell_type": "code",
   "execution_count": 498,
   "metadata": {
    "collapsed": true
   },
   "outputs": [],
   "source": [
    "def calc_cost(y_hat, y, X):\n",
    "    m = len(y) # training examples\n",
    "    return (1.0/m) * np.dot(X.T, np.subtract(y_hat, y)) # costly - would have to calculate each cost 3 million times!"
   ]
  },
  {
   "cell_type": "code",
   "execution_count": 499,
   "metadata": {
    "collapsed": true
   },
   "outputs": [],
   "source": [
    "def update_theta(theta, learning_rate, cost):\n",
    "    return theta - learning_rate * cost"
   ]
  },
  {
   "cell_type": "markdown",
   "metadata": {},
   "source": [
    "### Coefficients SGD"
   ]
  },
  {
   "cell_type": "code",
   "execution_count": 500,
   "metadata": {
    "collapsed": true
   },
   "outputs": [],
   "source": [
    "# gradient\n",
    "def coefficients_sgd(X, y, learning_rate, num_epochs):\n",
    "    theta = init_theta(X)\n",
    "    while (error < tolerance) & (epoch < max_epochs):\n",
    "        y_hat = hypothesis(theta, X)\n",
    "        cost = calc_cost(y_hat, y, X)\n",
    "        theta = update_theta(theta, learning_rate, cost)\n",
    "    return theta"
   ]
  },
  {
   "cell_type": "code",
   "execution_count": 501,
   "metadata": {},
   "outputs": [
    {
     "name": "stdout",
     "output_type": "stream",
     "text": [
      "[ 0.64664752  0.78233495  0.79435881]\n"
     ]
    }
   ],
   "source": [
    "theta = coefficients_sgd(X, y, learning_rate, num_epochs)\n",
    "print(theta)"
   ]
  }
 ],
 "metadata": {
  "kernelspec": {
   "display_name": "Python 3",
   "language": "python",
   "name": "python3"
  },
  "language_info": {
   "codemirror_mode": {
    "name": "ipython",
    "version": 3
   },
   "file_extension": ".py",
   "mimetype": "text/x-python",
   "name": "python",
   "nbconvert_exporter": "python",
   "pygments_lexer": "ipython3",
   "version": "3.6.3"
  }
 },
 "nbformat": 4,
 "nbformat_minor": 2
}
